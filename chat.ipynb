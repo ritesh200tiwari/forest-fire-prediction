{
  "nbformat": 4,
  "nbformat_minor": 0,
  "metadata": {
    "colab": {
      "name": "chat.ipynb",
      "provenance": [],
      "include_colab_link": true
    },
    "kernelspec": {
      "name": "python3",
      "display_name": "Python 3"
    }
  },
  "cells": [
    {
      "cell_type": "markdown",
      "metadata": {
        "id": "view-in-github",
        "colab_type": "text"
      },
      "source": [
        "<a href=\"https://colab.research.google.com/github/ritesh200tiwari/forest-fire-prediction/blob/main/chat.ipynb\" target=\"_parent\"><img src=\"https://colab.research.google.com/assets/colab-badge.svg\" alt=\"Open In Colab\"/></a>"
      ]
    },
    {
      "cell_type": "code",
      "metadata": {
        "id": "qAEG0UiP0J2X",
        "colab": {
          "base_uri": "https://localhost:8080/"
        },
        "outputId": "ffcdea2c-1445-45ae-968e-085047dc08e6"
      },
      "source": [
        "#libraries needed for NLP\n",
        "import nltk\n",
        "nltk.download('punkt')"
      ],
      "execution_count": 1,
      "outputs": [
        {
          "output_type": "stream",
          "text": [
            "[nltk_data] Downloading package punkt to /root/nltk_data...\n",
            "[nltk_data]   Unzipping tokenizers/punkt.zip.\n"
          ],
          "name": "stdout"
        },
        {
          "output_type": "execute_result",
          "data": {
            "text/plain": [
              "True"
            ]
          },
          "metadata": {
            "tags": []
          },
          "execution_count": 1
        }
      ]
    },
    {
      "cell_type": "code",
      "metadata": {
        "id": "6VFBm7pmUKm3",
        "colab": {
          "base_uri": "https://localhost:8080/"
        },
        "outputId": "add28858-7431-4fab-9123-eb857e962743"
      },
      "source": [
        "import nltk\n",
        "from nltk.stem.lancaster import LancasterStemmer\n",
        "stemmer=LancasterStemmer()\n",
        "\n",
        "#Libararies needed for TensorFlow processing\n",
        "import tensorflow as tf\n",
        "import numpy as np\n",
        "!pip install tflearn\n",
        "import tflearn\n",
        "import random\n",
        "import json"
      ],
      "execution_count": 3,
      "outputs": [
        {
          "output_type": "stream",
          "text": [
            "Collecting tflearn\n",
            "\u001b[?25l  Downloading https://files.pythonhosted.org/packages/e7/3c/0b156d08ef3d4e2a8009ecab2af1ad2e304f6fb99562b6271c68a74a4397/tflearn-0.5.0.tar.gz (107kB)\n",
            "\r\u001b[K     |███                             | 10kB 12.4MB/s eta 0:00:01\r\u001b[K     |██████                          | 20kB 17.6MB/s eta 0:00:01\r\u001b[K     |█████████▏                      | 30kB 10.7MB/s eta 0:00:01\r\u001b[K     |████████████▏                   | 40kB 3.9MB/s eta 0:00:01\r\u001b[K     |███████████████▎                | 51kB 4.6MB/s eta 0:00:01\r\u001b[K     |██████████████████▎             | 61kB 5.4MB/s eta 0:00:01\r\u001b[K     |█████████████████████▍          | 71kB 6.1MB/s eta 0:00:01\r\u001b[K     |████████████████████████▍       | 81kB 6.7MB/s eta 0:00:01\r\u001b[K     |███████████████████████████▌    | 92kB 6.2MB/s eta 0:00:01\r\u001b[K     |██████████████████████████████▌ | 102kB 6.7MB/s eta 0:00:01\r\u001b[K     |████████████████████████████████| 112kB 6.7MB/s \n",
            "\u001b[?25hRequirement already satisfied: numpy in /usr/local/lib/python3.7/dist-packages (from tflearn) (1.19.5)\n",
            "Requirement already satisfied: six in /usr/local/lib/python3.7/dist-packages (from tflearn) (1.15.0)\n",
            "Requirement already satisfied: Pillow in /usr/local/lib/python3.7/dist-packages (from tflearn) (7.1.2)\n",
            "Building wheels for collected packages: tflearn\n",
            "  Building wheel for tflearn (setup.py) ... \u001b[?25l\u001b[?25hdone\n",
            "  Created wheel for tflearn: filename=tflearn-0.5.0-cp37-none-any.whl size=127300 sha256=345889fdaae2c56d10533fd94e0214208150aa05a896c9a049ae76b45ae40826\n",
            "  Stored in directory: /root/.cache/pip/wheels/31/d2/ed/fb9a0d301dd9586c11e9547120278e624227f22fd5f4baf744\n",
            "Successfully built tflearn\n",
            "Installing collected packages: tflearn\n",
            "Successfully installed tflearn-0.5.0\n",
            "WARNING:tensorflow:From /usr/local/lib/python3.7/dist-packages/tensorflow/python/compat/v2_compat.py:96: disable_resource_variables (from tensorflow.python.ops.variable_scope) is deprecated and will be removed in a future version.\n",
            "Instructions for updating:\n",
            "non-resource variables are not supported in the long term\n"
          ],
          "name": "stdout"
        }
      ]
    },
    {
      "cell_type": "code",
      "metadata": {
        "id": "5smYz21oURVZ",
        "colab": {
          "resources": {
            "http://localhost:8080/nbextensions/google.colab/files.js": {
              "data": "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",
              "ok": true,
              "headers": [
                [
                  "content-type",
                  "application/javascript"
                ]
              ],
              "status": 200,
              "status_text": ""
            }
          },
          "base_uri": "https://localhost:8080/",
          "height": 110
        },
        "outputId": "3d2f7eef-56f5-4fd1-fc9b-8f5cf88d531b"
      },
      "source": [
        "from google.colab import files\n",
        "files.upload()"
      ],
      "execution_count": 7,
      "outputs": [
        {
          "output_type": "display_data",
          "data": {
            "text/html": [
              "\n",
              "     <input type=\"file\" id=\"files-bca1056c-330a-43d8-a02c-7240a091ebad\" name=\"files[]\" multiple disabled\n",
              "        style=\"border:none\" />\n",
              "     <output id=\"result-bca1056c-330a-43d8-a02c-7240a091ebad\">\n",
              "      Upload widget is only available when the cell has been executed in the\n",
              "      current browser session. Please rerun this cell to enable.\n",
              "      </output>\n",
              "      <script src=\"/nbextensions/google.colab/files.js\"></script> "
            ],
            "text/plain": [
              "<IPython.core.display.HTML object>"
            ]
          },
          "metadata": {
            "tags": []
          }
        },
        {
          "output_type": "stream",
          "text": [
            "Saving intents.json to intents.json\n"
          ],
          "name": "stdout"
        },
        {
          "output_type": "execute_result",
          "data": {
            "text/plain": [
              "{'intents.json': b'{\"intents\": [\\n        {\"tag\": \"greeting\",\\n         \"patterns\": [\"Hi there\", \"How are you\", \"Is anyone there?\",\"Hey\",\"Hola\", \"Hello\", \"Good day\"],\\n         \"responses\": [\"Hello, thanks for asking\", \"Good to see you again\", \"Hi there, how can I help?\"],\\n         \"context\": [\"\"]\\n        },\\n        {\"tag\": \"goodbye\",\\n         \"patterns\": [\"Bye\", \"See you later\", \"Goodbye\", \"Nice chatting to you, bye\", \"Till next time\"],\\n         \"responses\": [\"See you!\", \"Have a nice day\", \"Bye! Come back again soon.\"],\\n         \"context\": [\"\"]\\n        },\\n        {\"tag\": \"thanks\",\\n         \"patterns\": [\"Thanks\", \"Thank you\", \"That\\'s helpful\", \"Awesome, thanks\", \"Thanks for helping me\"],\\n         \"responses\": [\"Happy to help!\", \"Any time!\", \"My pleasure\"],\\n         \"context\": [\"\"]\\n        },\\n        {\"tag\": \"noanswer\",\\n         \"patterns\": [],\\n         \"responses\": [\"Sorry, can\\'t understand you\", \"Please give me more info\", \"Not sure I understand\"],\\n         \"context\": [\"\"]\\n        },\\n        {\"tag\": \"options\",\\n         \"patterns\": [\"How you could help me?\", \"What help you provide?\", \"How you can be helpful?\"],\\n         \"responses\": [\"I can guide you through Adverse management problems, order tracking, person to be contacted and Department related queries\",\"I can provide support related to following problems technical query,management related query,order related query,tracking related query,procurement query,outsourcing problem,manufacturing delay,\"],\\n         \"context\": [\"\"]\\n        },\\n        {\"tag\": \"order_tracking\",\\n             \"patterns\": [\"where is order with id 431B67?\", \"track order 562B78\", \"Where is my order with id 561A24?\" ],\\n         \"responses\": [\"Delayed\",\"Dispatched\",\"On the Way!\"],\\n         \"context\": [\"\"]\\n        },\\n        {\"tag\": \"order_components\",\\n         \"patterns\": [\"order id 345A23 comprises of?\",\"List of components\"],\\n         \"responses\": [\"order comprises of hardisk and bluetooth\"],\\n         \"context\": [\"\"]\\n        },\\n       {\"tag\": \"missing_id\",\\n         \"patterns\": [\"where is the order\",\"where is my order\",\"locate the order\",\"Delivery date of order\"],\\n         \"responses\": [\"Please enter with order ID\"],\\n         \"context\": [\"\"]\\n        },\\n    {\"tag\": \"Location\",\\n         \"patterns\": [\"find order location 32712\",\"What is the Location of order 23A31?\"],\\n         \"responses\": [\"It is in germany\",\"It is in Berlin\",\"It has reached china\",\"It has reached Banglore\"],\\n         \"context\": [\"\"]\\n        },\\n        {\"tag\": \"search_person_by_id\",\\n         \"patterns\": [\"I want an appoitment with Manoj kumar\",\"set an appointment with Sujata Nandi\"],\\n         \"responses\": [\"Fixing an appointment.\"],\\n         \"context\": [\"\"]\\n        },\\n        {\"tag\": \"appointment status\",\\n         \"patterns\": [\"Is my appointment fixed?\",\"Do I have an appointment today?\"],\\n         \"responses\": [\"Yes\",\"NO! Not Yet\"],\\n         \"context\": [\"\"]\\n        },\\n        {\"tag\": \"check_leave\",\\n         \"patterns\": [\"Is Sujata Nandi on leave?\",\"Is Manish Kumar on leave?\"],\\n         \"responses\": [\"No Not On Leave\",\"Yes On Leave\"],\\n         \"context\": [\"\"]\\n        },\\n         {\"tag\": \"cost_lowering\",\\n         \"patterns\": [\"Cost Lowering changes to be made?\",\"what changes could lower cost?\"],\\n         \"responses\": [\"Increase Transportation capacity utilisation,Increase supply chain velocity,Reduce order variability\"],\\n         \"context\": [\"\"]\\n        },\\n         {\"tag\": \"forgot_password\",\\n         \"patterns\": [\"I forgot my Login password?\",\"what to do when someone forgets Login password?\",\"I forgot my Laptop password\",\"Forgot Wifi password\"],\\n         \"responses\": [\"Please enter your email id ,we will send a link on your email\"],\\n          \"context\": [\"\"]\\n        },\\n          {\"tag\": \"email_id\",\\n          \"patterns\":[\"abx@gmail.com\",\"abc@kiit.ac.in\"],\\n          \"responses\":[\"Link has been shared.Please change your password\"],\\n           \"context\": [\"\"]\\n        },\\n        {\"tag\": \"manufacturing_problems\",\\n         \"patterns\": [\"Find me a manufacturer nearby\"],\\n         \"responses\": [\"The nearest manufacturer is Vietnam\"],\\n         \"context\": [\"\"]\\n        },\\n        {\"tag\": \"search_department\",\\n         \"patterns\": [\"I want to know the various departments in this company\"],\\n         \"responses\": [\"The department are:Projects,IT,Production,OutSource\"],\\n         \"context\": [\"\"]\\n        },\\n        {\"tag\": \"competitors_in_market\",\\n         \"patterns\": [\"what are challenging events\", \"what are the threats in the market\"],\\n         \"responses\": [\"Recent news of Demonetisation & recession\"],\\n         \"context\": [\"\"]\\n        },\\n       {\"tag\": \"key_customers\",\\n         \"patterns\": [\"Our Target customers\", \"who are your key customers\"],\\n         \"responses\": [\"Our target customers are in the range of age 20-40\"],\\n         \"context\": [\"\"]\\n        },\\n     {\"tag\": \"supplier_info\",\\n         \"patterns\": [\"What information is shared with supplier?\"],\\n         \"responses\": [\"Production Schedule,Delivery Schedule,Proxy information about cost\"],\\n         \"context\": [\"\"]\\n        },\\n     {\"tag\": \"highest_grossing\",\\n         \"patterns\": [\"What is the highest grossing product?\"],\\n         \"responses\": [\"Laptop with touch sensors and 360 rotation\"],\\n         \"context\": [\"\"]\\n        },\\n        {\"tag\": \"connect_people\",\\n         \"patterns\": [\"I want to meet the head of HR/IT/Projects department\",\"I want to meet head IT Rakesh sharma.\"],\\n         \"responses\": [\"I will just check if he is available or on leave.\"],\\n         \"context\": [\"search_attendance_database_name_post\"]\\n        },\\n        {\"tag\": \"project_handling_queries\",\\n         \"patterns\": [\"complaint has been raised for Insufficient Team Skills\",\"Miscommunication Conflicts needs to be resolved\",\"Risk Management issue has occured\",\"skilled employees needed urgently\"],\\n         \"responses\": [\"Please contact the project depatment\"],\\n         \"context\": [\"\"]\\n        },\\n        {\"tag\": \"solve_problems\",\\n         \"patterns\": [\"Lack of product clarity\",\"the specifications of product is not clear to customer. what should we do\"],\\n         \"responses\": [\"Please enter product id and customer id.specifications shall be sent to user\"],\\n         \"context\": [\"\"]\\n        },\\n         {\"tag\": \"version_update\",\\n         \"patterns\": [\"user needs the updated software version\",\"user demands software updation\"],\\n         \"responses\": [\"version updation request raised\"],\\n         \"context\": [\"\"]\\n          },\\n        {\"tag\": \"HR_related_problem\",\\n         \"patterns\": [\"problem related to Job design and analysis\",\"query based on Workforce planning\",\"Training and development issues are to be handled\",\"Compensation and benefits of the working employee\",\"Legal issues of department like accidents in the company\"],\\n         \"responses\": [\"Please Contact the HR team for this problem.\"],\\n         \"context\": [\"\"]\\n        },\\n    {\"tag\": \"factors_impacting_sale\",\\n         \"patterns\": [\"Impact on sale?\",\"factors impacting sale this year?\"],\\n         \"responses\": [\"elections will impact our sale this year\",\"this year our sale might increase during durga puja\",\"this year sale might be impacted due to demonitisation\"],\\n         \"context\": [\"\"]\\n        },\\n    \\n    {\"tag\": \"predict_performance\",\\n         \"patterns\": [\"how have we improved our sale from last year?\",\"what is the profit this year?\"],\\n         \"responses\": [\"we have improved our sale by increasing our customers upto 2 lakh\",\"profit earned is 15%\"],\\n         \"context\": [\"\"]\\n        },\\n         {\"tag\": \"customer_satisfaction\",\\n         \"patterns\": [\"how was the customer response\",\"Is the customer happy?\",\"what was the customer feedback?\"],\\n         \"responses\": [\"Customer was happy and has given good rating\"],\\n         \"context\": [\"\"]\\n        },\\n    {\"tag\": \"maintainence\",\\n         \"patterns\": [\"maintainence related queries recorded\"],\\n         \"responses\": [\"lift is not working, projector misfuctioning\"],\\n         \"context\": [\"\"]\\n        },\\n         {\"tag\": \"gadgets\",\\n         \"patterns\": [\"what are the gadgets in stock?\",\"which products we have?\"],\\n         \"responses\": [\"hardisk,pendrives, wireless bluetooth,Laptops,Gaming Accessories\"],\\n         \"context\": [\"\"]\\n        },\\n    {\"tag\": \"commission\",\\n         \"patterns\": [\"what is the Commission rate?\",\"Commission rate on each product?\"],\\n         \"responses\": [\"Commission rate is 5% on laptops,25%on bluetooth device,10% on Desktop\"],\\n         \"context\": [\"\"]\\n        },\\n    {\"tag\": \"invalid\",\\n         \"patterns\": [\"Marry me\",\"I love You\",\"date me\",\"chat with me\",\"I am bored\"],\\n         \"responses\": [\"Please ask organisation related query.\"],\\n         \"context\": [\"\"]\\n        },\\n    {\"tag\": \"noans\",\\n         \"patterns\": [\"why\",\"how\",\"when\",\"I\",\"you\"],\\n         \"responses\": [\"Can\\'t Understand Your Question\",\"please elaborate your question\"],\\n         \"context\": [\"\"]\\n        },\\n    {\"tag\": \"turnover\",\\n         \"patterns\": [\"what is the turnover of the company at present?\"],\\n         \"responses\": [\"10 Million Ton\"],\\n         \"context\": [\"\"]\\n        },\\n        {\"tag\": \"predict_delay\",\\n         \"patterns\": [\"why is order 23A12 delayed\"],\\n         \"responses\": [\"delay is due to manufacuring\",\"Delay is due to inavailable components\"],\\n         \"context\": [\"\"]\\n        },\\n    {\"tag\": \"predict_delay\",\\n         \"patterns\": [\"why is order 23A12 delayed\"],\\n         \"responses\": [\"delay is due to manufacuring\",\"Delay is due to inavailable components\"],\\n         \"context\": [\"\"]\\n        },\\n        {\"tag\": \"name\",\\n         \"patterns\": [\"what is your name?\",\"what should I call you?\"],\\n         \"responses\": [\"I\\'m Bruno\",\"Hey!I\\'m Bruno\"],\\n         \"context\": [\"\"]\\n        },\\n         {\"tag\": \"about\",\\n         \"patterns\": [\"how you doing?\",\"how are you\"],\\n         \"responses\": [\"Thanks For Asking!How can I help you?\"],\\n         \"context\": [\"\"]\\n        },\\n    {\"tag\":\"configuration\",\\n     \"patterns\":[\"How to configure my laptop\",\"software configuration of laptop\",\"steps to configure laptop\",\"How to configure my computer\",\"software configuration of computer\",\"steps to configure computer\",\"How to configure my desktop\",\"software configuration of desktop\",\"steps to configure desktop\"],\\n     \"responses\":[\"search tab->control panel->select specific application->download update->give permission\"],\\n     \"context\":[\"\"]\\n    },\\n      {\"tag\": \"Weather\",\\n         \"patterns\": [\"what is the weather today?\"],\\n         \"responses\": [\"It\\'s 36C according to accuweather\"],\\n         \"context\": [\"\"]\\n        },\\n      {\"tag\": \"leave\",\\n         \"patterns\": [\"Is Michel Sharma on leave?\",\"Is Siddhart Roy present today?\",\"Is Shantanu Bhatt in office?\"],\\n         \"responses\": [\"Give me a moment!I\\'ll just check\",\"yes\",\"no\"],\\n         \"context\": [\"\"]\\n        },\\n      {\"tag\": \"hours\",\\n         \"patterns\": [\"Opening hours of the cafeteria?\",\"when does the cafeteria open\",\"office canteen opening time\"],\\n         \"responses\": [\"It is open from Monday-Saturday 9:00am-7:30pm\"],\\n         \"context\": [\"\"]\\n        },\\n         {\"tag\": \"cabin\",\\n         \"patterns\": [\"where is VP cabin?\",\"Where is Head IT cabin?\",\"Where is AI department\",\"Where is Project head department?\",\"where is cafeteria\",\"guide me to the canteen\"],\\n         \"responses\": [\"Block-A 3rd floor 1st room\",\"Block-B 2nd Floor\",\"Block-D Ground Floor\"],\\n         \"context\": [\"\"]\\n        },\\n    {\"tag\":\"domain\",\\n        \"patterns\":[\"How to improve team members domain knowledge\",\"improving domain knowledge of team members\"],\\n        \"responses\":[\"set up key meetings and workshop,create a shared drive for information,Hold informal sharing session\"],\\n        \"context\":[\"\"]\\n    }\\n   ]\\n}\\n'}"
            ]
          },
          "metadata": {
            "tags": []
          },
          "execution_count": 7
        }
      ]
    },
    {
      "cell_type": "code",
      "metadata": {
        "id": "9dTI67NhUYn9"
      },
      "source": [
        "#import chat-bot intents file\n",
        "with open('intents.json') as json_data:\n",
        "    intents = json.load(json_data)"
      ],
      "execution_count": 9,
      "outputs": []
    },
    {
      "cell_type": "code",
      "metadata": {
        "id": "Z-GwRycQXpnw",
        "colab": {
          "base_uri": "https://localhost:8080/"
        },
        "outputId": "98afc53b-ef63-4b75-b3ef-145976498ed7"
      },
      "source": [
        "intents"
      ],
      "execution_count": 10,
      "outputs": [
        {
          "output_type": "execute_result",
          "data": {
            "text/plain": [
              "{'intents': [{'context': [''],\n",
              "   'patterns': ['Hi there',\n",
              "    'How are you',\n",
              "    'Is anyone there?',\n",
              "    'Hey',\n",
              "    'Hola',\n",
              "    'Hello',\n",
              "    'Good day'],\n",
              "   'responses': ['Hello, thanks for asking',\n",
              "    'Good to see you again',\n",
              "    'Hi there, how can I help?'],\n",
              "   'tag': 'greeting'},\n",
              "  {'context': [''],\n",
              "   'patterns': ['Bye',\n",
              "    'See you later',\n",
              "    'Goodbye',\n",
              "    'Nice chatting to you, bye',\n",
              "    'Till next time'],\n",
              "   'responses': ['See you!', 'Have a nice day', 'Bye! Come back again soon.'],\n",
              "   'tag': 'goodbye'},\n",
              "  {'context': [''],\n",
              "   'patterns': ['Thanks',\n",
              "    'Thank you',\n",
              "    \"That's helpful\",\n",
              "    'Awesome, thanks',\n",
              "    'Thanks for helping me'],\n",
              "   'responses': ['Happy to help!', 'Any time!', 'My pleasure'],\n",
              "   'tag': 'thanks'},\n",
              "  {'context': [''],\n",
              "   'patterns': [],\n",
              "   'responses': [\"Sorry, can't understand you\",\n",
              "    'Please give me more info',\n",
              "    'Not sure I understand'],\n",
              "   'tag': 'noanswer'},\n",
              "  {'context': [''],\n",
              "   'patterns': ['How you could help me?',\n",
              "    'What help you provide?',\n",
              "    'How you can be helpful?'],\n",
              "   'responses': ['I can guide you through Adverse management problems, order tracking, person to be contacted and Department related queries',\n",
              "    'I can provide support related to following problems technical query,management related query,order related query,tracking related query,procurement query,outsourcing problem,manufacturing delay,'],\n",
              "   'tag': 'options'},\n",
              "  {'context': [''],\n",
              "   'patterns': ['where is order with id 431B67?',\n",
              "    'track order 562B78',\n",
              "    'Where is my order with id 561A24?'],\n",
              "   'responses': ['Delayed', 'Dispatched', 'On the Way!'],\n",
              "   'tag': 'order_tracking'},\n",
              "  {'context': [''],\n",
              "   'patterns': ['order id 345A23 comprises of?', 'List of components'],\n",
              "   'responses': ['order comprises of hardisk and bluetooth'],\n",
              "   'tag': 'order_components'},\n",
              "  {'context': [''],\n",
              "   'patterns': ['where is the order',\n",
              "    'where is my order',\n",
              "    'locate the order',\n",
              "    'Delivery date of order'],\n",
              "   'responses': ['Please enter with order ID'],\n",
              "   'tag': 'missing_id'},\n",
              "  {'context': [''],\n",
              "   'patterns': ['find order location 32712',\n",
              "    'What is the Location of order 23A31?'],\n",
              "   'responses': ['It is in germany',\n",
              "    'It is in Berlin',\n",
              "    'It has reached china',\n",
              "    'It has reached Banglore'],\n",
              "   'tag': 'Location'},\n",
              "  {'context': [''],\n",
              "   'patterns': ['I want an appoitment with Manoj kumar',\n",
              "    'set an appointment with Sujata Nandi'],\n",
              "   'responses': ['Fixing an appointment.'],\n",
              "   'tag': 'search_person_by_id'},\n",
              "  {'context': [''],\n",
              "   'patterns': ['Is my appointment fixed?', 'Do I have an appointment today?'],\n",
              "   'responses': ['Yes', 'NO! Not Yet'],\n",
              "   'tag': 'appointment status'},\n",
              "  {'context': [''],\n",
              "   'patterns': ['Is Sujata Nandi on leave?', 'Is Manish Kumar on leave?'],\n",
              "   'responses': ['No Not On Leave', 'Yes On Leave'],\n",
              "   'tag': 'check_leave'},\n",
              "  {'context': [''],\n",
              "   'patterns': ['Cost Lowering changes to be made?',\n",
              "    'what changes could lower cost?'],\n",
              "   'responses': ['Increase Transportation capacity utilisation,Increase supply chain velocity,Reduce order variability'],\n",
              "   'tag': 'cost_lowering'},\n",
              "  {'context': [''],\n",
              "   'patterns': ['I forgot my Login password?',\n",
              "    'what to do when someone forgets Login password?',\n",
              "    'I forgot my Laptop password',\n",
              "    'Forgot Wifi password'],\n",
              "   'responses': ['Please enter your email id ,we will send a link on your email'],\n",
              "   'tag': 'forgot_password'},\n",
              "  {'context': [''],\n",
              "   'patterns': ['abx@gmail.com', 'abc@kiit.ac.in'],\n",
              "   'responses': ['Link has been shared.Please change your password'],\n",
              "   'tag': 'email_id'},\n",
              "  {'context': [''],\n",
              "   'patterns': ['Find me a manufacturer nearby'],\n",
              "   'responses': ['The nearest manufacturer is Vietnam'],\n",
              "   'tag': 'manufacturing_problems'},\n",
              "  {'context': [''],\n",
              "   'patterns': ['I want to know the various departments in this company'],\n",
              "   'responses': ['The department are:Projects,IT,Production,OutSource'],\n",
              "   'tag': 'search_department'},\n",
              "  {'context': [''],\n",
              "   'patterns': ['what are challenging events',\n",
              "    'what are the threats in the market'],\n",
              "   'responses': ['Recent news of Demonetisation & recession'],\n",
              "   'tag': 'competitors_in_market'},\n",
              "  {'context': [''],\n",
              "   'patterns': ['Our Target customers', 'who are your key customers'],\n",
              "   'responses': ['Our target customers are in the range of age 20-40'],\n",
              "   'tag': 'key_customers'},\n",
              "  {'context': [''],\n",
              "   'patterns': ['What information is shared with supplier?'],\n",
              "   'responses': ['Production Schedule,Delivery Schedule,Proxy information about cost'],\n",
              "   'tag': 'supplier_info'},\n",
              "  {'context': [''],\n",
              "   'patterns': ['What is the highest grossing product?'],\n",
              "   'responses': ['Laptop with touch sensors and 360 rotation'],\n",
              "   'tag': 'highest_grossing'},\n",
              "  {'context': ['search_attendance_database_name_post'],\n",
              "   'patterns': ['I want to meet the head of HR/IT/Projects department',\n",
              "    'I want to meet head IT Rakesh sharma.'],\n",
              "   'responses': ['I will just check if he is available or on leave.'],\n",
              "   'tag': 'connect_people'},\n",
              "  {'context': [''],\n",
              "   'patterns': ['complaint has been raised for Insufficient Team Skills',\n",
              "    'Miscommunication Conflicts needs to be resolved',\n",
              "    'Risk Management issue has occured',\n",
              "    'skilled employees needed urgently'],\n",
              "   'responses': ['Please contact the project depatment'],\n",
              "   'tag': 'project_handling_queries'},\n",
              "  {'context': [''],\n",
              "   'patterns': ['Lack of product clarity',\n",
              "    'the specifications of product is not clear to customer. what should we do'],\n",
              "   'responses': ['Please enter product id and customer id.specifications shall be sent to user'],\n",
              "   'tag': 'solve_problems'},\n",
              "  {'context': [''],\n",
              "   'patterns': ['user needs the updated software version',\n",
              "    'user demands software updation'],\n",
              "   'responses': ['version updation request raised'],\n",
              "   'tag': 'version_update'},\n",
              "  {'context': [''],\n",
              "   'patterns': ['problem related to Job design and analysis',\n",
              "    'query based on Workforce planning',\n",
              "    'Training and development issues are to be handled',\n",
              "    'Compensation and benefits of the working employee',\n",
              "    'Legal issues of department like accidents in the company'],\n",
              "   'responses': ['Please Contact the HR team for this problem.'],\n",
              "   'tag': 'HR_related_problem'},\n",
              "  {'context': [''],\n",
              "   'patterns': ['Impact on sale?', 'factors impacting sale this year?'],\n",
              "   'responses': ['elections will impact our sale this year',\n",
              "    'this year our sale might increase during durga puja',\n",
              "    'this year sale might be impacted due to demonitisation'],\n",
              "   'tag': 'factors_impacting_sale'},\n",
              "  {'context': [''],\n",
              "   'patterns': ['how have we improved our sale from last year?',\n",
              "    'what is the profit this year?'],\n",
              "   'responses': ['we have improved our sale by increasing our customers upto 2 lakh',\n",
              "    'profit earned is 15%'],\n",
              "   'tag': 'predict_performance'},\n",
              "  {'context': [''],\n",
              "   'patterns': ['how was the customer response',\n",
              "    'Is the customer happy?',\n",
              "    'what was the customer feedback?'],\n",
              "   'responses': ['Customer was happy and has given good rating'],\n",
              "   'tag': 'customer_satisfaction'},\n",
              "  {'context': [''],\n",
              "   'patterns': ['maintainence related queries recorded'],\n",
              "   'responses': ['lift is not working, projector misfuctioning'],\n",
              "   'tag': 'maintainence'},\n",
              "  {'context': [''],\n",
              "   'patterns': ['what are the gadgets in stock?', 'which products we have?'],\n",
              "   'responses': ['hardisk,pendrives, wireless bluetooth,Laptops,Gaming Accessories'],\n",
              "   'tag': 'gadgets'},\n",
              "  {'context': [''],\n",
              "   'patterns': ['what is the Commission rate?',\n",
              "    'Commission rate on each product?'],\n",
              "   'responses': ['Commission rate is 5% on laptops,25%on bluetooth device,10% on Desktop'],\n",
              "   'tag': 'commission'},\n",
              "  {'context': [''],\n",
              "   'patterns': ['Marry me',\n",
              "    'I love You',\n",
              "    'date me',\n",
              "    'chat with me',\n",
              "    'I am bored'],\n",
              "   'responses': ['Please ask organisation related query.'],\n",
              "   'tag': 'invalid'},\n",
              "  {'context': [''],\n",
              "   'patterns': ['why', 'how', 'when', 'I', 'you'],\n",
              "   'responses': [\"Can't Understand Your Question\",\n",
              "    'please elaborate your question'],\n",
              "   'tag': 'noans'},\n",
              "  {'context': [''],\n",
              "   'patterns': ['what is the turnover of the company at present?'],\n",
              "   'responses': ['10 Million Ton'],\n",
              "   'tag': 'turnover'},\n",
              "  {'context': [''],\n",
              "   'patterns': ['why is order 23A12 delayed'],\n",
              "   'responses': ['delay is due to manufacuring',\n",
              "    'Delay is due to inavailable components'],\n",
              "   'tag': 'predict_delay'},\n",
              "  {'context': [''],\n",
              "   'patterns': ['why is order 23A12 delayed'],\n",
              "   'responses': ['delay is due to manufacuring',\n",
              "    'Delay is due to inavailable components'],\n",
              "   'tag': 'predict_delay'},\n",
              "  {'context': [''],\n",
              "   'patterns': ['what is your name?', 'what should I call you?'],\n",
              "   'responses': [\"I'm Bruno\", \"Hey!I'm Bruno\"],\n",
              "   'tag': 'name'},\n",
              "  {'context': [''],\n",
              "   'patterns': ['how you doing?', 'how are you'],\n",
              "   'responses': ['Thanks For Asking!How can I help you?'],\n",
              "   'tag': 'about'},\n",
              "  {'context': [''],\n",
              "   'patterns': ['How to configure my laptop',\n",
              "    'software configuration of laptop',\n",
              "    'steps to configure laptop',\n",
              "    'How to configure my computer',\n",
              "    'software configuration of computer',\n",
              "    'steps to configure computer',\n",
              "    'How to configure my desktop',\n",
              "    'software configuration of desktop',\n",
              "    'steps to configure desktop'],\n",
              "   'responses': ['search tab->control panel->select specific application->download update->give permission'],\n",
              "   'tag': 'configuration'},\n",
              "  {'context': [''],\n",
              "   'patterns': ['what is the weather today?'],\n",
              "   'responses': [\"It's 36C according to accuweather\"],\n",
              "   'tag': 'Weather'},\n",
              "  {'context': [''],\n",
              "   'patterns': ['Is Michel Sharma on leave?',\n",
              "    'Is Siddhart Roy present today?',\n",
              "    'Is Shantanu Bhatt in office?'],\n",
              "   'responses': [\"Give me a moment!I'll just check\", 'yes', 'no'],\n",
              "   'tag': 'leave'},\n",
              "  {'context': [''],\n",
              "   'patterns': ['Opening hours of the cafeteria?',\n",
              "    'when does the cafeteria open',\n",
              "    'office canteen opening time'],\n",
              "   'responses': ['It is open from Monday-Saturday 9:00am-7:30pm'],\n",
              "   'tag': 'hours'},\n",
              "  {'context': [''],\n",
              "   'patterns': ['where is VP cabin?',\n",
              "    'Where is Head IT cabin?',\n",
              "    'Where is AI department',\n",
              "    'Where is Project head department?',\n",
              "    'where is cafeteria',\n",
              "    'guide me to the canteen'],\n",
              "   'responses': ['Block-A 3rd floor 1st room',\n",
              "    'Block-B 2nd Floor',\n",
              "    'Block-D Ground Floor'],\n",
              "   'tag': 'cabin'},\n",
              "  {'context': [''],\n",
              "   'patterns': ['How to improve team members domain knowledge',\n",
              "    'improving domain knowledge of team members'],\n",
              "   'responses': ['set up key meetings and workshop,create a shared drive for information,Hold informal sharing session'],\n",
              "   'tag': 'domain'}]}"
            ]
          },
          "metadata": {
            "tags": []
          },
          "execution_count": 10
        }
      ]
    },
    {
      "cell_type": "code",
      "metadata": {
        "id": "e-kbxeyoiwET"
      },
      "source": [
        "words = []\n",
        "classes = []\n",
        "documents = []\n",
        "ignore = ['?']\n",
        "\n",
        "#loop through each sentence in the intent's patters\n",
        "for intent in intents['intents']:\n",
        "    for pattern in intent['patterns']:\n",
        "        #tokenize each and every word in the sentence\n",
        "        w=nltk.word_tokenize(pattern)\n",
        "        \n",
        "        #add word to the word list\n",
        "        words.extend(w)\n",
        "        \n",
        "        #add word(s) to documents\n",
        "        documents.append((w, intent['tag']))\n",
        "        \n",
        "        #add tags to our classes list\n",
        "        if intent['tag'] not in classes:\n",
        "            classes.append(intent['tag'])"
      ],
      "execution_count": 11,
      "outputs": []
    },
    {
      "cell_type": "code",
      "metadata": {
        "id": "q_ityTwjlxx7",
        "colab": {
          "base_uri": "https://localhost:8080/"
        },
        "outputId": "d93f717c-6cdc-434b-c921-9fcda7702348"
      },
      "source": [
        "#perform stemming and lower each word as well as remove duplicates\n",
        "\n",
        "words=[stemmer.stem(w.lower()) for w in words if w not in ignore]\n",
        "words=sorted(list(set(words)))\n",
        "\n",
        "#remove duplicate classes\n",
        "classes=sorted(list(set(classes)))\n",
        "\n",
        "print (len(documents), \"documents\")\n",
        "print (len(classes), \"classes\", classes)\n",
        "print (len(words), \"unique stemmed words\", words)"
      ],
      "execution_count": 13,
      "outputs": [
        {
          "output_type": "stream",
          "text": [
            "121 documents\n",
            "43 classes ['HR_related_problem', 'Location', 'Weather', 'about', 'appointment status', 'cabin', 'check_leave', 'commission', 'competitors_in_market', 'configuration', 'connect_people', 'cost_lowering', 'customer_satisfaction', 'domain', 'email_id', 'factors_impacting_sale', 'forgot_password', 'gadgets', 'goodbye', 'greeting', 'highest_grossing', 'hours', 'invalid', 'key_customers', 'leave', 'maintainence', 'manufacturing_problems', 'missing_id', 'name', 'noans', 'options', 'order_components', 'order_tracking', 'predict_delay', 'predict_performance', 'project_handling_queries', 'search_department', 'search_person_by_id', 'solve_problems', 'supplier_info', 'thanks', 'turnover', 'version_update']\n",
            "226 unique stemmed words [\"'s\", ',', '.', '23a12', '23a31', '32712', '345a23', '431b67', '561a24', '562b78', '@', 'a', 'abc', 'abx', 'accid', 'ai', 'am', 'an', 'ana', 'and', 'anyon', 'appoint', 'appoit', 'ar', 'at', 'awesom', 'bas', 'be', 'been', 'benefit', 'bhat', 'bor', 'bye', 'cabin', 'cafet', 'cal', 'can', 'canteen', 'challeng', 'chang', 'chat', 'clar', 'clear', 'commit', 'comp', 'company', 'complaint', 'compon', 'compr', 'comput', 'config', 'conflict', 'cost', 'could', 'custom', 'dat', 'day', 'delay', 'delivery', 'demand', 'depart', 'design', 'desktop', 'develop', 'do', 'doe', 'doing', 'domain', 'each', 'employ', 'ev', 'fact', 'feedback', 'find', 'fix', 'for', 'forget', 'forgot', 'from', 'gadget', 'gmail.com', 'good', 'goodby', 'gross', 'guid', 'handl', 'happy', 'has', 'hav', 'head', 'hello', 'help', 'hey', 'hi', 'highest', 'hol', 'hour', 'how', 'hr/it/projects', 'i', 'id', 'impact', 'improv', 'in', 'inform', 'insufficy', 'is', 'issu', 'it', 'job', 'key', 'kiit.ac.in', 'know', 'knowledg', 'kum', 'lack', 'laptop', 'last', 'lat', 'leav', 'leg', 'lik', 'list', 'loc', 'login', 'lov', 'low', 'mad', 'maintain', 'man', 'manod', 'manufact', 'market', 'marry', 'me', 'meet', 'memb', 'michel', 'miscommun', 'my', 'nam', 'nand', 'nearby', 'nee', 'next', 'nic', 'not', 'occ', 'of', 'off', 'on', 'op', 'ord', 'our', 'password', 'plan', 'pre', 'problem', 'produc', 'profit', 'project', 'provid', 'query', 'rai', 'rakesh', 'rat', 'record', 'rel', 'resolv', 'respon', 'risk', 'roy', 'sal', 'see', 'set', 'shantanu', 'shar', 'sharm', 'should', 'siddhart', 'skil', 'softw', 'someon', 'spec', 'step', 'stock', 'suj', 'supply', 'target', 'team', 'thank', 'that', 'the', 'ther', 'thi', 'threats', 'til', 'tim', 'to', 'today', 'track', 'train', 'turnov', 'upd', 'urg', 'us', 'vary', 'vert', 'vp', 'want', 'was', 'we', 'wea', 'what', 'when', 'wher', 'which', 'who', 'why', 'wif', 'with', 'work', 'workforc', 'year', 'yo', 'you']\n"
          ],
          "name": "stdout"
        }
      ]
    },
    {
      "cell_type": "code",
      "metadata": {
        "id": "1388GULyl5oS",
        "colab": {
          "base_uri": "https://localhost:8080/"
        },
        "outputId": "6d5d060b-b7fc-4c89-aebc-e0fc13eedcf0"
      },
      "source": [
        "#create training data\n",
        "training=[]\n",
        "output=[]\n",
        "\n",
        "#create an empty array for output\n",
        "output_empty=[0]*len(classes)\n",
        "\n",
        "#create training set bag of words for each sentence\n",
        "for doc in documents:\n",
        "  #initialize bag of words\n",
        "  bag=[]\n",
        "  #list of tokenized words for the pattern\n",
        "  pattern_words=doc[0]\n",
        "  #stemming each word\n",
        "  pattern_words=[stemmer.stem(word.lower()) for word in pattern_words]\n",
        "  #create bag of words array\n",
        "  for w in words:\n",
        "    bag.append(1) if w in pattern_words else bag.append(0)\n",
        "    \n",
        "  #output is 1 for current tag and o for the rest of other tags\n",
        "  output_row=list(output_empty)\n",
        "  output_row[classes.index(doc[1])]=1\n",
        "    \n",
        "  training.append([bag,output_row])\n",
        "    \n",
        "#shuffling features and turning it into np.array\n",
        "random.shuffle(training)\n",
        "training=np.array(training)\n",
        "  \n",
        "#creating training lists\n",
        "train_x =list(training[:,0])\n",
        "train_y =list(training[:,1])"
      ],
      "execution_count": 14,
      "outputs": [
        {
          "output_type": "stream",
          "text": [
            "/usr/local/lib/python3.7/dist-packages/ipykernel_launcher.py:28: VisibleDeprecationWarning: Creating an ndarray from ragged nested sequences (which is a list-or-tuple of lists-or-tuples-or ndarrays with different lengths or shapes) is deprecated. If you meant to do this, you must specify 'dtype=object' when creating the ndarray\n"
          ],
          "name": "stderr"
        }
      ]
    },
    {
      "cell_type": "code",
      "metadata": {
        "id": "H2TNEBYFpPBx",
        "colab": {
          "base_uri": "https://localhost:8080/"
        },
        "outputId": "5faed8e8-a182-44fc-95a4-d518b69e4252"
      },
      "source": [
        "#resetting underlying graph data\n",
        "#tf.reset_default_graph()\n",
        "tf.compat.v1.reset_default_graph\n",
        "\n",
        "\n",
        "#building neural network\n",
        "net=tflearn.input_data(shape=[None, len(train_x[0])])\n",
        "net=tflearn.fully_connected(net,10)\n",
        "net=tflearn.fully_connected(net,10)\n",
        "net=tflearn.fully_connected(net,len(train_y[0]), activation='softmax')\n",
        "net=tflearn.regression(net)\n",
        "\n",
        "#defining model and setting up tensorboard\n",
        "model=tflearn.DNN(net, tensorboard_dir='tflearn_logs')\n",
        "\n",
        "#start training\n",
        "model.fit(train_x, train_y, n_epoch=1000, batch_size=8, show_metric=True)\n",
        "model.save('model.tflearn')"
      ],
      "execution_count": 16,
      "outputs": [
        {
          "output_type": "stream",
          "text": [
            "Training Step: 15999  | total loss: \u001b[1m\u001b[32m0.01045\u001b[0m\u001b[0m | time: 0.071s\n",
            "| Adam | epoch: 1000 | loss: 0.01045 - acc: 0.9871 -- iter: 120/121\n",
            "Training Step: 16000  | total loss: \u001b[1m\u001b[32m0.00944\u001b[0m\u001b[0m | time: 0.075s\n",
            "| Adam | epoch: 1000 | loss: 0.00944 - acc: 0.9884 -- iter: 121/121\n",
            "--\n",
            "INFO:tensorflow:/content/model.tflearn is not in all_model_checkpoint_paths. Manually adding it.\n"
          ],
          "name": "stdout"
        }
      ]
    },
    {
      "cell_type": "code",
      "metadata": {
        "id": "_LA_5QFbsUUc"
      },
      "source": [
        "import pickle\n",
        "pickle.dump({'word':words, 'classes':classes, 'train_x':train_x, 'train_y':train_y}, open(\"training_data\",\"wb\"))"
      ],
      "execution_count": 17,
      "outputs": []
    },
    {
      "cell_type": "code",
      "metadata": {
        "id": "Sl_Kv75avdJP"
      },
      "source": [
        "#restoring all the data structures\n",
        "data = pickle.load(open(\"training_data\",\"rb\"))\n",
        "\n",
        "words   =data['word']\n",
        "classes =data['classes']\n",
        "train_x =data['train_x']\n",
        "train_y =data['train_y']"
      ],
      "execution_count": 18,
      "outputs": []
    },
    {
      "cell_type": "code",
      "metadata": {
        "id": "Ue66f586wgQQ"
      },
      "source": [
        "with open('intents.json') as json_data:\n",
        "    intents = json.load(json_data)\n",
        "  "
      ],
      "execution_count": 20,
      "outputs": []
    },
    {
      "cell_type": "code",
      "metadata": {
        "id": "KLVolYxww6rW",
        "colab": {
          "base_uri": "https://localhost:8080/"
        },
        "outputId": "a207acd3-9429-444f-bacf-d9b39a406cba"
      },
      "source": [
        "#load the saved model\n",
        "model.load('./model.tflearn')"
      ],
      "execution_count": 21,
      "outputs": [
        {
          "output_type": "stream",
          "text": [
            "INFO:tensorflow:Restoring parameters from /content/model.tflearn\n"
          ],
          "name": "stdout"
        }
      ]
    },
    {
      "cell_type": "code",
      "metadata": {
        "id": "FeBXcDR5xBfM"
      },
      "source": [
        "def clean_up_sentence(sentence):\n",
        "  #tokenize the token\n",
        "  sentence_words=nltk.word_tokenize(sentence)\n",
        "  #stemming each word\n",
        "  sentence_words=[stemmer.stem(word.lower()) for word in sentence_words]\n",
        "  return sentence_words\n",
        "\n",
        "#return bag of word array:0 and 1 for each word in the bag that exists\n",
        "def bow(sentence, words, show_details=False):\n",
        "  #tokenize sentence\n",
        "  sentence_words=clean_up_sentence(sentence)\n",
        "  #generating bag of words\n",
        "  bag=[0] * len(words)\n",
        "  for s in sentence_words:\n",
        "    for i,w in enumerate(words):\n",
        "      if w ==s:\n",
        "        bag[i] = 1\n",
        "        \n",
        "        if show_details:\n",
        "          print(\"found in bag: %s\" % w)\n",
        "  return (np.array(bag))"
      ],
      "execution_count": 22,
      "outputs": []
    },
    {
      "cell_type": "code",
      "metadata": {
        "id": "xDnZoojwyXI9"
      },
      "source": [
        "ERROR_THRESHOLD = 0.0\n",
        "def classify(sentence):\n",
        "  #generate probabilities from the model\n",
        "  results = model.predict([bow(sentence, words)])[0]\n",
        "  \n",
        "  #filter out prediction below a threshold\n",
        "  results = [[i,r] for i, r in enumerate(results) if r> ERROR_THRESHOLD]\n",
        "  \n",
        "  #sort by strength of probability\n",
        "  results.sort(key=lambda x: x[1], reverse=True)\n",
        "  return_list=[]\n",
        "  \n",
        "  for r in results:\n",
        "    return_list.append((classes[r[0]], r[1]))\n",
        "  \n",
        "  #return tuple of intent and probability\n",
        "  return return_list\n",
        "\n",
        "def response(sentence, userID='123', show_details=False):\n",
        "  results=classify(sentence)\n",
        "  \n",
        "  if results:\n",
        "    while results:\n",
        "      for i in intents['intents']:\n",
        "        if i['tag'] == results[0][0]:\n",
        "          return print(random.choice(i['responses']))\n",
        "      results.pop(0)\n",
        "  "
      ],
      "execution_count": 23,
      "outputs": []
    },
    {
      "cell_type": "code",
      "metadata": {
        "id": "ZwmpKMu90gXu",
        "colab": {
          "base_uri": "https://localhost:8080/"
        },
        "outputId": "fe62c1e2-a9cb-4b55-bdd8-f5ea1bbf4296"
      },
      "source": [
        "classify('what are you hours of operation?')"
      ],
      "execution_count": 24,
      "outputs": [
        {
          "output_type": "execute_result",
          "data": {
            "text/plain": [
              "[('gadgets', 0.66778),\n",
              " ('hours', 0.29498795),\n",
              " ('predict_performance', 0.036910806),\n",
              " ('turnover', 0.00025000906),\n",
              " ('Weather', 3.0431644e-05),\n",
              " ('highest_grossing', 2.1557133e-05),\n",
              " ('factors_impacting_sale', 1.5599451e-05),\n",
              " ('supplier_info', 3.3564938e-06),\n",
              " ('solve_problems', 2.030216e-07),\n",
              " ('cost_lowering', 4.672076e-08),\n",
              " ('search_department', 6.095831e-10),\n",
              " ('appointment status', 4.0614737e-10),\n",
              " ('competitors_in_market', 4.8854278e-11),\n",
              " ('customer_satisfaction', 1.9926374e-12),\n",
              " ('connect_people', 2.510803e-13),\n",
              " ('version_update', 3.4718752e-14),\n",
              " ('name', 1.3842153e-14),\n",
              " ('domain', 3.810664e-15),\n",
              " ('configuration', 4.528552e-17),\n",
              " ('commission', 3.388289e-17),\n",
              " ('search_person_by_id', 8.887698e-19),\n",
              " ('email_id', 3.812474e-19),\n",
              " ('key_customers', 1.1558047e-19),\n",
              " ('manufacturing_problems', 3.921492e-20),\n",
              " ('project_handling_queries', 4.307522e-21),\n",
              " ('options', 3.0356032e-21),\n",
              " ('goodbye', 2.513706e-21),\n",
              " ('check_leave', 1.3902034e-21),\n",
              " ('leave', 3.8336585e-22),\n",
              " ('Location', 1.9728713e-22),\n",
              " ('order_components', 2.1892066e-23),\n",
              " ('maintainence', 1.6123427e-23),\n",
              " ('thanks', 8.15743e-26),\n",
              " ('predict_delay', 5.477974e-27),\n",
              " ('forgot_password', 2.2188194e-29),\n",
              " ('order_tracking', 9.18409e-30),\n",
              " ('HR_related_problem', 1.9598415e-30),\n",
              " ('about', 8.330798e-34),\n",
              " ('missing_id', 5.7114887e-34),\n",
              " ('cabin', 2.33313e-37),\n",
              " ('noans', 1.932389e-37)]"
            ]
          },
          "metadata": {
            "tags": []
          },
          "execution_count": 24
        }
      ]
    },
    {
      "cell_type": "code",
      "metadata": {
        "id": "0sY_y3G81NoI",
        "colab": {
          "base_uri": "https://localhost:8080/"
        },
        "outputId": "c0efa1ce-9018-4fb7-f63b-527c36d20ae2"
      },
      "source": [
        "response('Do you take credit cards?')"
      ],
      "execution_count": 25,
      "outputs": [
        {
          "output_type": "stream",
          "text": [
            "Can't Understand Your Question\n"
          ],
          "name": "stdout"
        }
      ]
    },
    {
      "cell_type": "code",
      "metadata": {
        "id": "e6faVi3l1l9-",
        "colab": {
          "base_uri": "https://localhost:8080/"
        },
        "outputId": "485a7e68-5c9f-4ab7-af0a-e5fee588d36a"
      },
      "source": [
        "response('Bye')"
      ],
      "execution_count": 26,
      "outputs": [
        {
          "output_type": "stream",
          "text": [
            "See you!\n"
          ],
          "name": "stdout"
        }
      ]
    },
    {
      "cell_type": "code",
      "metadata": {
        "id": "3ByRPlyX2VrG",
        "colab": {
          "base_uri": "https://localhost:8080/"
        },
        "outputId": "d3ddb387-813b-4070-fbcb-3c5964e10f2d"
      },
      "source": [
        "response('good day')"
      ],
      "execution_count": 27,
      "outputs": [
        {
          "output_type": "stream",
          "text": [
            "Hi there, how can I help?\n"
          ],
          "name": "stdout"
        }
      ]
    },
    {
      "cell_type": "code",
      "metadata": {
        "id": "V_JBIxVB5-9r",
        "colab": {
          "base_uri": "https://localhost:8080/"
        },
        "outputId": "4e628066-376c-4994-d54e-17b976975bce"
      },
      "source": [
        "response('Thank you')"
      ],
      "execution_count": 28,
      "outputs": [
        {
          "output_type": "stream",
          "text": [
            "Happy to help!\n"
          ],
          "name": "stdout"
        }
      ]
    },
    {
      "cell_type": "code",
      "metadata": {
        "id": "dWoQZT8b6eSE",
        "colab": {
          "base_uri": "https://localhost:8080/"
        },
        "outputId": "e14533b7-2df0-4a22-b7f3-eda723400a13"
      },
      "source": [
        "response('appointment status')"
      ],
      "execution_count": 29,
      "outputs": [
        {
          "output_type": "stream",
          "text": [
            "yes\n"
          ],
          "name": "stdout"
        }
      ]
    },
    {
      "cell_type": "code",
      "metadata": {
        "id": "CC-J39vwUU_Y",
        "outputId": "7e4a9282-c455-4bf5-fbed-9b22c888bb7b",
        "colab": {
          "base_uri": "https://localhost:8080/"
        }
      },
      "source": [
        "response('Is Manish Kumar on leave?')"
      ],
      "execution_count": 30,
      "outputs": [
        {
          "output_type": "stream",
          "text": [
            "Yes On Leave\n"
          ],
          "name": "stdout"
        }
      ]
    },
    {
      "cell_type": "code",
      "metadata": {
        "id": "43gigmNQUmt1"
      },
      "source": [
        ""
      ],
      "execution_count": null,
      "outputs": []
    }
  ]
}